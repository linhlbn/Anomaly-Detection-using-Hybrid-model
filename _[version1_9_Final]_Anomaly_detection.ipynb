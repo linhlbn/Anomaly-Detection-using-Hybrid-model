{
  "cells": [
    {
      "cell_type": "markdown",
      "metadata": {
        "id": "d-2syouXCd7p"
      },
      "source": [
        "## 1/ Import Library"
      ]
    },
    {
      "cell_type": "code",
      "execution_count": null,
      "metadata": {
        "id": "Jozbp5ZY_Nv7"
      },
      "outputs": [],
      "source": [
        "import datetime\n",
        "start_time = datetime.datetime.now()\n",
        "\n",
        "%matplotlib inline\n",
        "from datetime import datetime, timedelta\n",
        "import datetime\n",
        "import matplotlib.pyplot as plt\n",
        "import numpy as np\n",
        "import pandas as pd"
      ]
    },
    {
      "cell_type": "markdown",
      "metadata": {
        "id": "ZOFwsDzeCkRa"
      },
      "source": [
        "## 2/ Get data from DB and ingest as dataframe"
      ]
    },
    {
      "cell_type": "markdown",
      "metadata": {
        "id": "_0Ij7Wk3GCfp"
      },
      "source": [
        "#### 2.1 Connect db"
      ]
    },
    {
      "cell_type": "code",
      "execution_count": null,
      "metadata": {
        "colab": {
          "base_uri": "https://localhost:8080/"
        },
        "id": "flcnGoXx_Tbq",
        "outputId": "2777ff0d-4f8a-4866-c112-834f13b269aa"
      },
      "outputs": [
        {
          "name": "stderr",
          "output_type": "stream",
          "text": [
            "/usr/local/lib/python3.7/dist-packages/psycopg2/__init__.py:144: UserWarning: The psycopg2 wheel package will be renamed from release 2.8; in order to keep installing from binary please use \"pip install psycopg2-binary\" instead. For details see: <http://initd.org/psycopg/docs/install.html#binary-install-from-pypi>.\n",
            "  \"\"\")\n"
          ]
        },
        {
          "name": "stdout",
          "output_type": "stream",
          "text": [
            "okay 1 - connect\n",
            "... Get the conn successfully!\n"
          ]
        }
      ],
      "source": [
        "def getPostgresCred():\n",
        "    host='apps-postgresql-single-9cb77552-f43f-41e6-ba25-9b15c8800d52-pub.education.wise-paas.com'\n",
        "    database='584e2a25-a312-4d5a-91bc-124557687122'\n",
        "    user='78613d26-a4e9-4ed9-97cd-f7e24512aca6'\n",
        "    password='CqF7a7GpsMXWu1ODHRSlZBG5x'\n",
        "    return host, database, user, password\n",
        "\n",
        "try:\n",
        "    # from cred import getPostgresCred\n",
        "    import psycopg2\n",
        "    host, database, user, password = getPostgresCred()\n",
        "    conn = psycopg2.connect(\n",
        "        host=host,\n",
        "        database=database,\n",
        "        user=user,\n",
        "        password=password,\n",
        "        port='5432')\n",
        "    print(\"okay 1 - connect\");\n",
        "    cur = conn.cursor()\n",
        "    print(\"... Get the conn successfully!\")\n",
        "except Exception as err:\n",
        "    print(f\"You failed to connect posgres! {err}\")"
      ]
    },
    {
      "cell_type": "code",
      "execution_count": null,
      "metadata": {
        "id": "yQgH27Lo_el2"
      },
      "outputs": [],
      "source": [
        "def postgresql_to_dataframe(conn, select_query, column_names):\n",
        "    \"\"\"\n",
        "    Tranform a SELECT query into a pandas dataframe\n",
        "    \"\"\"\n",
        "    cursor = conn.cursor()\n",
        "    try:\n",
        "        cursor.execute(select_query)\n",
        "    except (Exception, psycopg2.DatabaseError) as error:\n",
        "        print(\"Error: %s\" % error)\n",
        "        cursor.close()\n",
        "        return 1\n",
        "\n",
        "    # Naturally we get a list of tupples\n",
        "    tupples = cursor.fetchall()\n",
        "    cursor.close()\n",
        "\n",
        "    # We just need to turn it into a pandas dataframe\n",
        "    df = pd.DataFrame(tupples, columns=column_names)\n",
        "    return df"
      ]
    },
    {
      "cell_type": "markdown",
      "metadata": {
        "id": "z_DVU2JCGIDL"
      },
      "source": [
        "#### 2.2 Ingest as dataframe"
      ]
    },
    {
      "cell_type": "code",
      "execution_count": null,
      "metadata": {
        "colab": {
          "base_uri": "https://localhost:8080/"
        },
        "id": "_4XmMDt3_gds",
        "outputId": "11e43051-aa31-4012-8128-45872b8334bb"
      },
      "outputs": [
        {
          "data": {
            "text/plain": [
              "(986988, 2)"
            ]
          },
          "execution_count": 4,
          "metadata": {},
          "output_type": "execute_result"
        }
      ],
      "source": [
        "# have conn already\n",
        "import pandas as pd\n",
        "column_names = [\"date_time\", \"temperature\"]\n",
        "# get 2 days ago to learn\n",
        "N_DAYS_AGO = 2\n",
        "today = datetime.datetime.now()\n",
        "n_days_ago = today - timedelta(days=N_DAYS_AGO)\n",
        "two_days_ago = str(n_days_ago).split()[0]\n",
        "# query\n",
        "# query = \"select date_time, temperature from datahub.sensorsdata where date_time > '\" + two_days_ago + \"'\"\n",
        "query = \"select date_time, temperature from datahub.sensorsdata\"\n",
        "df = postgresql_to_dataframe(conn, query, column_names)\n",
        "df.shape"
      ]
    },
    {
      "cell_type": "markdown",
      "metadata": {
        "id": "i1WTUye2GOPR"
      },
      "source": [
        "#### 2.3 Visualize overview"
      ]
    },
    {
      "cell_type": "code",
      "execution_count": null,
      "metadata": {
        "colab": {
          "base_uri": "https://localhost:8080/",
          "height": 111
        },
        "id": "mWcVrlvF0cnx",
        "outputId": "f21663ca-f206-40af-b90a-6e752c72cad5"
      },
      "outputs": [
        {
          "data": {
            "text/html": [
              "<div>\n",
              "<style scoped>\n",
              "    .dataframe tbody tr th:only-of-type {\n",
              "        vertical-align: middle;\n",
              "    }\n",
              "\n",
              "    .dataframe tbody tr th {\n",
              "        vertical-align: top;\n",
              "    }\n",
              "\n",
              "    .dataframe thead th {\n",
              "        text-align: right;\n",
              "    }\n",
              "</style>\n",
              "<table border=\"1\" class=\"dataframe\">\n",
              "  <thead>\n",
              "    <tr style=\"text-align: right;\">\n",
              "      <th></th>\n",
              "      <th>date_time</th>\n",
              "      <th>temperature</th>\n",
              "    </tr>\n",
              "  </thead>\n",
              "  <tbody>\n",
              "    <tr>\n",
              "      <th>15498</th>\n",
              "      <td>2021-08-11 20:13:35.020</td>\n",
              "      <td>20.0</td>\n",
              "    </tr>\n",
              "    <tr>\n",
              "      <th>15499</th>\n",
              "      <td>2021-08-11 20:13:39.053</td>\n",
              "      <td>24.0</td>\n",
              "    </tr>\n",
              "  </tbody>\n",
              "</table>\n",
              "</div>"
            ],
            "text/plain": [
              "                    date_time  temperature\n",
              "15498 2021-08-11 20:13:35.020         20.0\n",
              "15499 2021-08-11 20:13:39.053         24.0"
            ]
          },
          "execution_count": 5,
          "metadata": {},
          "output_type": "execute_result"
        }
      ],
      "source": [
        "# get a sample of data\n",
        "data = df[:15500]\n",
        "data.tail(2)"
      ]
    },
    {
      "cell_type": "code",
      "execution_count": null,
      "metadata": {
        "colab": {
          "base_uri": "https://localhost:8080/",
          "height": 314
        },
        "id": "t6NBj01j_pmB",
        "outputId": "de22ae2e-7864-4df1-cfef-821efe2e12b8"
      },
      "outputs": [
        {
          "name": "stdout",
          "output_type": "stream",
          "text": [
            "(15500, 2)\n"
          ]
        },
        {
          "data": {
            "text/plain": [
              "<matplotlib.axes._subplots.AxesSubplot at 0x7f2d987bff50>"
            ]
          },
          "execution_count": 6,
          "metadata": {},
          "output_type": "execute_result"
        },
        {
          "data": {
            "image/png": "[encoded data removed]",
            "text/plain": [
              "<Figure size 720x288 with 1 Axes>"
            ]
          },
          "metadata": {
            "needs_background": "light"
          },
          "output_type": "display_data"
        }
      ],
      "source": [
        "print(data.shape)\n",
        "data.set_index('date_time').plot(figsize=(10, 4))"
      ]
    },
    {
      "cell_type": "markdown",
      "metadata": {
        "id": "nB-KBhPKCxTC"
      },
      "source": [
        "## 3/ Transform input into the right form and apply VAE-LSTM techniques"
      ]
    },
    {
      "cell_type": "markdown",
      "metadata": {
        "id": "EBmQYBTgGV4c"
      },
      "source": [
        "#### 3.1 Split data to train & valuate sets"
      ]
    },
    {
      "cell_type": "code",
      "execution_count": null,
      "metadata": {
        "colab": {
          "base_uri": "https://localhost:8080/"
        },
        "id": "udH0leW9A3D6",
        "outputId": "af55500d-2ec0-4215-e507-c2c3ae04a23d"
      },
      "outputs": [
        {
          "data": {
            "text/plain": [
              "((13949, 1), (13949, 1), (1550, 1), (1550, 1))"
            ]
          },
          "execution_count": 7,
          "metadata": {},
          "output_type": "execute_result"
        }
      ],
      "source": [
        "from sklearn.model_selection import train_test_split\n",
        "\n",
        "X = data['temperature'].values.reshape((len(data), 1))\n",
        "y = data['temperature'].values.reshape((len(data), 1))\n",
        "\n",
        "X = X[:-1, :]\n",
        "y = y[1:, :]\n",
        "\n",
        "X_train, X_val, y_train, y_val = train_test_split(X, y, test_size=0.1, random_state=42)\n",
        "\n",
        "X_train.shape, y_train.shape, X_val.shape, y_val.shape"
      ]
    },
    {
      "cell_type": "markdown",
      "metadata": {
        "id": "xKIx_gwvDKJ4"
      },
      "source": [
        "(y is the next value of the same slice of X)"
      ]
    },
    {
      "cell_type": "code",
      "execution_count": null,
      "metadata": {
        "colab": {
          "base_uri": "https://localhost:8080/"
        },
        "id": "XYNgG4d6A6hn",
        "outputId": "c4d27386-6935-4c0e-cfeb-3fce39d170b0"
      },
      "outputs": [
        {
          "data": {
            "text/plain": [
              "(array([25.]), array([25.]))"
            ]
          },
          "execution_count": 8,
          "metadata": {},
          "output_type": "execute_result"
        }
      ],
      "source": [
        "X[1, :], y[0, :]"
      ]
    },
    {
      "cell_type": "markdown",
      "metadata": {
        "id": "uwOx7I4cGpZE"
      },
      "source": [
        "#### 3.2 Set up feature"
      ]
    },
    {
      "cell_type": "code",
      "execution_count": null,
      "metadata": {
        "colab": {
          "base_uri": "https://localhost:8080/"
        },
        "id": "OCm5PsqPA8Ie",
        "outputId": "e0b87d67-b337-49ac-b4e6-80045808028b"
      },
      "outputs": [
        {
          "name": "stdout",
          "output_type": "stream",
          "text": [
            "n_samples 13949\n",
            "n_features 1\n",
            "n_val_samples 1550\n"
          ]
        }
      ],
      "source": [
        "n_timesteps = 120\n",
        "n_samples = X_train.shape[0]\n",
        "n_features = X_train.shape[1]\n",
        "n_val_samples = X_val.shape[0]\n",
        "print('n_samples', n_samples)\n",
        "print('n_features', n_features)\n",
        "print('n_val_samples', n_val_samples)"
      ]
    },
    {
      "cell_type": "markdown",
      "metadata": {
        "id": "WHulrkqhDt_R"
      },
      "source": [
        "#### 3.3 transform the input arrays with the second dimension is timesteps"
      ]
    },
    {
      "cell_type": "code",
      "execution_count": null,
      "metadata": {
        "colab": {
          "base_uri": "https://localhost:8080/"
        },
        "id": "J86ARb3sA99s",
        "outputId": "77e7adf2-dc0b-4ff3-a477-91c6303853b7"
      },
      "outputs": [
        {
          "data": {
            "text/plain": [
              "((13830, 120, 1), (13830, 1), (1431, 120, 1), (1431, 1))"
            ]
          },
          "execution_count": 10,
          "metadata": {},
          "output_type": "execute_result"
        }
      ],
      "source": [
        "X_train_list = [np.expand_dims(X_train[i-n_timesteps:i, :], axis=0) for i in range(n_timesteps, n_samples + 1)]\n",
        "X_train = np.concatenate(X_train_list, axis=0)\n",
        "y_train = y_train[n_timesteps-1:, :]\n",
        "\n",
        "X_val_list = [np.expand_dims(X_val[i-n_timesteps:i, :], axis=0) for i in range(n_timesteps, n_val_samples + 1)]\n",
        "X_val = np.concatenate(X_val_list, axis=0)\n",
        "y_val = y_val[n_timesteps-1:, :]\n",
        "\n",
        "X_train.shape, y_train.shape, X_val.shape, y_val.shape"
      ]
    },
    {
      "cell_type": "markdown",
      "metadata": {
        "id": "4dgBye-bD8Uk"
      },
      "source": [
        "#### 3.4 build architecture and review"
      ]
    },
    {
      "cell_type": "code",
      "execution_count": null,
      "metadata": {
        "id": "OwGGMU9mA_a8"
      },
      "outputs": [],
      "source": [
        "from keras import backend as K\n",
        "from keras.models import Model\n",
        "from keras.layers import Activation, BatchNormalization\n",
        "from keras.layers import Dropout, Dense, Input, LSTM\n",
        "from tensorflow.keras.optimizers import Adam\n",
        "\n",
        "def Autoencoder(n_timesteps, n_features):\n",
        "    i = Input(shape=(n_timesteps, n_features))\n",
        "\n",
        "    x = LSTM(150, return_sequences=True)(i)\n",
        "    x = Dropout(0.4)(x)\n",
        "\n",
        "    x = LSTM(\n",
        "150)(x)\n",
        "    x = Dropout(0.4)(x)\n",
        "\n",
        "    x = Dense(n_features, kernel_initializer='he_normal')(x)\n",
        "    x = Activation('linear')(x)\n",
        "\n",
        "    model = Model(inputs=i, outputs=x)\n",
        "    opt = Adam(lr=0.001)\n",
        "    model.compile(loss='mean_absolute_error', optimizer=opt)\n",
        "\n",
        "    return model"
      ]
    },
    {
      "cell_type": "code",
      "execution_count": null,
      "metadata": {
        "colab": {
          "base_uri": "https://localhost:8080/"
        },
        "id": "mmygWbD7BGJ_",
        "outputId": "35f0abfc-2305-457e-bfbc-fee8321578c0"
      },
      "outputs": [
        {
          "name": "stdout",
          "output_type": "stream",
          "text": [
            "Model: \"model\"\n",
            "_________________________________________________________________\n",
            "Layer (type)                 Output Shape              Param #   \n",
            "=================================================================\n",
            "input_1 (InputLayer)         [(None, 120, 1)]          0         \n",
            "_________________________________________________________________\n",
            "lstm (LSTM)                  (None, 120, 150)          91200     \n",
            "_________________________________________________________________\n",
            "dropout (Dropout)            (None, 120, 150)          0         \n",
            "_________________________________________________________________\n",
            "lstm_1 (LSTM)                (None, 150)               180600    \n",
            "_________________________________________________________________\n",
            "dropout_1 (Dropout)          (None, 150)               0         \n",
            "_________________________________________________________________\n",
            "dense (Dense)                (None, 1)                 151       \n",
            "_________________________________________________________________\n",
            "activation (Activation)      (None, 1)                 0         \n",
            "=================================================================\n",
            "Total params: 271,951\n",
            "Trainable params: 271,951\n",
            "Non-trainable params: 0\n",
            "_________________________________________________________________\n"
          ]
        },
        {
          "name": "stderr",
          "output_type": "stream",
          "text": [
            "/usr/local/lib/python3.7/dist-packages/keras/optimizer_v2/optimizer_v2.py:356: UserWarning: The `lr` argument is deprecated, use `learning_rate` instead.\n",
            "  \"The `lr` argument is deprecated, use `learning_rate` instead.\")\n"
          ]
        }
      ],
      "source": [
        "model = Autoencoder(n_timesteps, n_features)\n",
        "model.summary()"
      ]
    },
    {
      "cell_type": "code",
      "execution_count": null,
      "metadata": {
        "colab": {
          "base_uri": "https://localhost:8080/"
        },
        "id": "UHKPNXqfBHgc",
        "outputId": "d7086234-cd11-4307-bb5d-611ac865b747"
      },
      "outputs": [
        {
          "name": "stderr",
          "output_type": "stream",
          "text": [
            "/usr/local/lib/python3.7/dist-packages/keras/optimizer_v2/optimizer_v2.py:356: UserWarning: The `lr` argument is deprecated, use `learning_rate` instead.\n",
            "  \"The `lr` argument is deprecated, use `learning_rate` instead.\")\n"
          ]
        },
        {
          "name": "stdout",
          "output_type": "stream",
          "text": [
            "Epoch 1/200\n",
            "55/55 [==============================] - 10s 108ms/step - loss: 7.8516 - val_loss: 1.5741\n",
            "Epoch 2/200\n",
            "55/55 [==============================] - 5s 90ms/step - loss: 1.9087 - val_loss: 1.3781\n",
            "Epoch 3/200\n",
            "55/55 [==============================] - 5s 90ms/step - loss: 1.8805 - val_loss: 1.3819\n",
            "Epoch 4/200\n",
            "55/55 [==============================] - 5s 90ms/step - loss: 1.8816 - val_loss: 1.3643\n",
            "Epoch 5/200\n",
            "55/55 [==============================] - 5s 91ms/step - loss: 1.8729 - val_loss: 1.3882\n",
            "Epoch 6/200\n",
            "55/55 [==============================] - 5s 90ms/step - loss: 1.8522 - val_loss: 1.3900\n",
            "Epoch 7/200\n",
            "55/55 [==============================] - 5s 90ms/step - loss: 1.8569 - val_loss: 1.3701\n",
            "Epoch 8/200\n",
            "55/55 [==============================] - 5s 90ms/step - loss: 1.8624 - val_loss: 1.3750\n",
            "Epoch 9/200\n",
            "55/55 [==============================] - 5s 90ms/step - loss: 1.8747 - val_loss: 1.3736\n",
            "Epoch 10/200\n",
            "55/55 [==============================] - 5s 90ms/step - loss: 1.8660 - val_loss: 1.3752\n",
            "Epoch 11/200\n",
            "55/55 [==============================] - 5s 90ms/step - loss: 1.8546 - val_loss: 1.3856\n"
          ]
        }
      ],
      "source": [
        "from keras.callbacks import EarlyStopping\n",
        "model = Autoencoder(n_timesteps, n_features)\n",
        "callback = EarlyStopping(monitor='loss', patience=5, mode='min', restore_best_weights=True)\n",
        "\n",
        "history = model.fit(x=X_train, y=y_train, batch_size=256, epochs=200, verbose=1,\n",
        "                    callbacks=[callback], validation_data=(X_val, y_val), shuffle=False)"
      ]
    },
    {
      "cell_type": "markdown",
      "metadata": {
        "id": "SPfiuwT1Fj97"
      },
      "source": [
        "## 4/ Model evaluation"
      ]
    },
    {
      "cell_type": "code",
      "execution_count": null,
      "metadata": {
        "colab": {
          "base_uri": "https://localhost:8080/",
          "height": 296
        },
        "id": "1vYquXmdBJEz",
        "outputId": "c97ad5a4-dd2c-4df5-90fe-91334bc3621f"
      },
      "outputs": [
        {
          "data": {
            "text/plain": [
              "<matplotlib.legend.Legend at 0x7f2cd36e1c90>"
            ]
          },
          "execution_count": 14,
          "metadata": {},
          "output_type": "execute_result"
        },
        {
          "data": {
            "image/png": "[encoded data removed]",
            "text/plain": [
              "<Figure size 432x288 with 1 Axes>"
            ]
          },
          "metadata": {
            "needs_background": "light"
          },
          "output_type": "display_data"
        }
      ],
      "source": [
        "# history\n",
        "\n",
        "plt.xlabel('epoch')\n",
        "plt.ylabel('loss')\n",
        "\n",
        "epoch = [x for x in range(0,len(history.history['loss']))]\n",
        "plt.plot(epoch[1:], history.history['loss'][1:], label = 'loss')\n",
        "plt.plot(epoch[1:], history.history['val_loss'][1:], label = 'val_loss')\n",
        "plt.legend()"
      ]
    },
    {
      "cell_type": "markdown",
      "metadata": {
        "id": "Wlywjt9TFqUo"
      },
      "source": [
        "## 5/ Define the errors, and anomaly score"
      ]
    },
    {
      "cell_type": "markdown",
      "metadata": {
        "id": "TtunrUfEG5XO"
      },
      "source": [
        "#### 5.1 Get mean absolute error"
      ]
    },
    {
      "cell_type": "code",
      "execution_count": null,
      "metadata": {
        "colab": {
          "base_uri": "https://localhost:8080/"
        },
        "id": "ww8NegWZBKqg",
        "outputId": "0239a5f0-bfeb-411b-f502-8c833d60eb9d"
      },
      "outputs": [
        {
          "data": {
            "text/plain": [
              "(13830, 1)"
            ]
          },
          "execution_count": 15,
          "metadata": {},
          "output_type": "execute_result"
        }
      ],
      "source": [
        "y_train_pred = model.predict(X_train)\n",
        "y_train_pred.shape"
      ]
    },
    {
      "cell_type": "code",
      "execution_count": null,
      "metadata": {
        "colab": {
          "base_uri": "https://localhost:8080/"
        },
        "id": "WHssN3vWBMLi",
        "outputId": "3cc46bde-6ef9-481d-820e-a65b6f9d02ac"
      },
      "outputs": [
        {
          "data": {
            "text/plain": [
              "13830"
            ]
          },
          "execution_count": 16,
          "metadata": {},
          "output_type": "execute_result"
        }
      ],
      "source": [
        "from sklearn.metrics import mean_absolute_error\n",
        "errors = [mean_absolute_error(y_train[i, :], y_train_pred[i, :]) for i in range(y_train_pred.shape[0])]\n",
        "len(errors)"
      ]
    },
    {
      "cell_type": "code",
      "execution_count": null,
      "metadata": {
        "colab": {
          "base_uri": "https://localhost:8080/",
          "height": 282
        },
        "id": "0ccKqLCLBOeB",
        "outputId": "0794e29c-6f23-4fde-82ca-de19b6bfff75"
      },
      "outputs": [
        {
          "data": {
            "text/plain": [
              "<matplotlib.axes._subplots.AxesSubplot at 0x7f2cd33a0410>"
            ]
          },
          "execution_count": 17,
          "metadata": {},
          "output_type": "execute_result"
        },
        {
          "data": {
            "image/png": "[encoded data removed]",
            "text/plain": [
              "<Figure size 432x288 with 1 Axes>"
            ]
          },
          "metadata": {
            "needs_background": "light"
          },
          "output_type": "display_data"
        }
      ],
      "source": [
        "import seaborn as sb\n",
        "sb.kdeplot(errors, shade=True)"
      ]
    },
    {
      "cell_type": "code",
      "execution_count": null,
      "metadata": {
        "colab": {
          "base_uri": "https://localhost:8080/"
        },
        "id": "meijbGc5BPvW",
        "outputId": "434365da-1c4b-4d0b-f96d-c7ac353d3cf1"
      },
      "outputs": [
        {
          "data": {
            "text/plain": [
              "(1.3567136644541313, 0.9085206459655738)"
            ]
          },
          "execution_count": 18,
          "metadata": {},
          "output_type": "execute_result"
        }
      ],
      "source": [
        "from scipy.stats import norm\n",
        "params = norm.fit(errors)\n",
        "dist = norm(loc=params[0], scale=params[1])\n",
        "\n",
        "dist.mean(), dist.std()"
      ]
    },
    {
      "cell_type": "code",
      "execution_count": null,
      "metadata": {
        "colab": {
          "base_uri": "https://localhost:8080/"
        },
        "id": "kv4ZQprLzM6v",
        "outputId": "21521cc6-d5ae-42fa-9653-be18ca82e2f8"
      },
      "outputs": [
        {
          "data": {
            "text/plain": [
              "4.082275602350853"
            ]
          },
          "execution_count": 19,
          "metadata": {},
          "output_type": "execute_result"
        }
      ],
      "source": [
        "dist.mean() + 3 * dist.std()"
      ]
    },
    {
      "cell_type": "markdown",
      "metadata": {
        "id": "X_Mt0Z84G_lF"
      },
      "source": [
        "#### 5.2 Set up threshold: Standard mean deviation"
      ]
    },
    {
      "cell_type": "code",
      "execution_count": null,
      "metadata": {
        "id": "pz6CHwRPBQy5"
      },
      "outputs": [],
      "source": [
        "def is_anomaly(error, mean, std, threshold):\n",
        "    delta = np.abs(error - mean)\n",
        "    multiple = delta / std\n",
        "    # if multiple < threshold:\n",
        "    #     return 0\n",
        "    # else:\n",
        "    #     return 1\n",
        "    # print(multiple)\n",
        "    # i don't use threshold\n",
        "    if (multiple >  mean + 3 * std) or (multiple <  mean - 3 * std):\n",
        "        return 1\n",
        "    return 0"
      ]
    },
    {
      "cell_type": "code",
      "execution_count": null,
      "metadata": {
        "id": "t13zNttqNvlt"
      },
      "outputs": [],
      "source": [
        "# X_val[:, :, :].shape[0] #\n",
        "\n",
        "time_want_pred = 150"
      ]
    },
    {
      "cell_type": "code",
      "execution_count": null,
      "metadata": {
        "colab": {
          "base_uri": "https://localhost:8080/"
        },
        "id": "N9C-1BNABSBK",
        "outputId": "6ece19ef-cbcd-4ab4-f7f8-7c9019d09b16"
      },
      "outputs": [
        {
          "name": "stdout",
          "output_type": "stream",
          "text": [
            "Only normal value (0)\n"
          ]
        }
      ],
      "source": [
        "y_val_pred = model.predict(X_val[X_val[:, :, :].shape[0]-time_want_pred:, :, :])\n",
        "val_errors = [mean_absolute_error(y_val[i, :], y_val_pred[i, :]) for i in range(y_val_pred.shape[0])]\n",
        "result = [is_anomaly(x, dist.mean(), dist.std(), 1.5) for x in val_errors]\n",
        "\n",
        "print('Have anomaly value (1)') if 1 in result else print('Only normal value (0)')"
      ]
    },
    {
      "cell_type": "markdown",
      "metadata": {
        "id": "NnZaqK7HHHsk"
      },
      "source": [
        "#### 5.3 Define anomaly score: cumulative density function"
      ]
    },
    {
      "cell_type": "code",
      "execution_count": null,
      "metadata": {
        "id": "9wsRCDeaBTmq"
      },
      "outputs": [],
      "source": [
        "def anomaly_score(error, dist):\n",
        "    delta = np.abs(error - dist.mean())\n",
        "    return dist.cdf(dist.mean() + delta)"
      ]
    },
    {
      "cell_type": "code",
      "execution_count": null,
      "metadata": {
        "colab": {
          "base_uri": "https://localhost:8080/"
        },
        "id": "LH9nfxJGBU7R",
        "outputId": "554a750e-5801-4e07-9236-1dde983ad16a"
      },
      "outputs": [
        {
          "name": "stdout",
          "output_type": "stream",
          "text": [
            "[0.5741, 0.9455, 0.7252, 0.5741, 0.8196, 0.9455, 0.8196, 0.901, 0.978, 0.9011, 0.5741, 0.6922, 0.9011, 0.901, 0.5742, 0.9455, 0.7252, 0.9011, 0.901, 0.8196, 0.8197, 0.8196, 0.5741, 0.5741, 0.901, 0.978, 0.7252, 0.6922, 0.9455, 0.7252, 0.9011, 0.6923, 0.6922, 0.7252, 0.901, 0.5741, 0.9455, 0.9011, 0.8196, 0.8196, 0.9011, 0.6923, 0.7252, 0.6923, 0.6923, 0.8197, 0.574, 0.5741, 0.978, 0.9011, 0.6923, 0.7252, 0.5741, 0.901, 0.6923, 0.901, 0.6923, 0.9011, 0.901, 0.8196, 0.9011, 0.5741, 0.8196, 0.8196, 0.6923, 0.5741, 0.6922, 0.7252, 0.9011, 0.6923, 0.7252, 0.6922, 0.7252, 0.8196, 0.5741, 0.6922, 0.978, 0.7252, 0.901, 0.5741, 0.901, 0.6923, 0.978, 0.7252, 0.7252, 0.6922, 0.5741, 0.5741, 0.5741, 0.6923, 0.8196, 0.8196, 0.5741, 0.5741, 0.5741, 0.5741, 0.901, 0.978, 0.5741, 0.5741, 0.8196, 0.8196, 0.8196, 0.901, 0.7252, 0.5741, 0.5741, 0.5741, 0.7252, 0.7252, 0.901, 0.901, 0.6922, 0.7252, 0.6922, 0.901, 0.9455, 0.901, 0.6923, 0.8196, 0.9455, 0.5741, 0.5741, 0.6923, 0.9011, 0.9011, 0.5741, 0.9011, 0.901, 0.8197, 0.901, 0.9011, 0.6922, 0.901, 0.5742, 0.7253, 0.6922, 0.5741, 0.9011, 0.8196, 0.8196, 0.6923, 0.6922, 0.7252, 0.9011, 0.6922, 0.9011, 0.6923, 0.7252, 0.8196]\n"
          ]
        }
      ],
      "source": [
        "result = [np.round(anomaly_score(x, dist), 4) for x in val_errors]\n",
        "print(result)"
      ]
    },
    {
      "cell_type": "code",
      "execution_count": null,
      "metadata": {
        "colab": {
          "base_uri": "https://localhost:8080/",
          "height": 282
        },
        "id": "2zIC32OVBV0q",
        "outputId": "4bf50202-e8fd-4042-c584-728b2e9cd5f4"
      },
      "outputs": [
        {
          "data": {
            "text/plain": [
              "<matplotlib.axes._subplots.AxesSubplot at 0x7f2cd30a5e90>"
            ]
          },
          "execution_count": 25,
          "metadata": {},
          "output_type": "execute_result"
        },
        {
          "data": {
            "image/png": "[encoded data removed]",
            "text/plain": [
              "<Figure size 432x288 with 1 Axes>"
            ]
          },
          "metadata": {
            "needs_background": "light"
          },
          "output_type": "display_data"
        }
      ],
      "source": [
        "sb.kdeplot(result, shade=True)"
      ]
    },
    {
      "cell_type": "markdown",
      "metadata": {
        "id": "Oja2UEoOFz2J"
      },
      "source": [
        "#### 5.4 use z-score to define anomaly score: real/ warn/ normal (here are: warn and normal)"
      ]
    },
    {
      "cell_type": "code",
      "execution_count": null,
      "metadata": {
        "id": "9Ge420tzBXPo"
      },
      "outputs": [],
      "source": [
        "def out_zscore(data):\n",
        "    global outliers,zscore\n",
        "    outliers = []\n",
        "    zscore = []\n",
        "    idxoutlier = []\n",
        "    threshold = 1.3      # kha nang bat thuong: 1.5, chac chan bat thuong: 3\n",
        "    mean = np.mean(data)\n",
        "    std = np.std(data)\n",
        "    for idx, i in enumerate(data):\n",
        "        z_score= (i - mean)/std\n",
        "        zscore.append(z_score)\n",
        "        if np.abs(z_score) > threshold:\n",
        "            outliers.append(i)\n",
        "            idxoutlier.append(idx)\n",
        "    print(\"Total number of outliers are\",len(outliers))\n",
        "    return idxoutlier"
      ]
    },
    {
      "cell_type": "code",
      "execution_count": null,
      "metadata": {
        "colab": {
          "base_uri": "https://localhost:8080/"
        },
        "id": "CdHYnz0pBZCM",
        "outputId": "fef2a8e4-8cc4-4024-e7d0-ec646c622c63"
      },
      "outputs": [
        {
          "name": "stdout",
          "output_type": "stream",
          "text": [
            "Total number of outliers are 44\n"
          ]
        }
      ],
      "source": [
        "idxoutlier = out_zscore(result)"
      ]
    },
    {
      "cell_type": "code",
      "execution_count": null,
      "metadata": {
        "colab": {
          "base_uri": "https://localhost:8080/",
          "height": 391
        },
        "id": "rieVDbgTFRgr",
        "outputId": "95b8a074-5c9b-4df6-cf0e-b303e1961db9"
      },
      "outputs": [
        {
          "name": "stderr",
          "output_type": "stream",
          "text": [
            "/usr/local/lib/python3.7/dist-packages/seaborn/distributions.py:2619: FutureWarning: `distplot` is a deprecated function and will be removed in a future version. Please adapt your code to use either `displot` (a figure-level function with similar flexibility) or `histplot` (an axes-level function for histograms).\n",
            "  warnings.warn(msg, FutureWarning)\n"
          ]
        },
        {
          "data": {
            "text/plain": [
              "<matplotlib.patches.Polygon at 0x7f2cd0693c50>"
            ]
          },
          "execution_count": 43,
          "metadata": {},
          "output_type": "execute_result"
        },
        {
          "data": {
            "image/png": "[encoded data removed]",
            "text/plain": [
              "<Figure size 720x360 with 1 Axes>"
            ]
          },
          "metadata": {
            "needs_background": "light"
          },
          "output_type": "display_data"
        }
      ],
      "source": [
        "import seaborn as sns\n",
        "plt.figure(figsize = (10,5))\n",
        "sns.distplot(zscore)\n",
        "plt.axvspan(xmin = 3,xmax= max(zscore),alpha=0.2, color='red')"
      ]
    },
    {
      "cell_type": "markdown",
      "metadata": {
        "id": "BCwdXX51FXDU"
      },
      "source": [
        "## 6/ Visualize the result"
      ]
    },
    {
      "cell_type": "markdown",
      "metadata": {
        "id": "1cLEnZEQMHvh"
      },
      "source": [
        "#### 6.1 Visualize the result from \"5.3 Define anomaly score\"\n",
        "\n"
      ]
    },
    {
      "cell_type": "code",
      "execution_count": null,
      "metadata": {
        "colab": {
          "base_uri": "https://localhost:8080/",
          "height": 667
        },
        "id": "bmrrLKrQBaPI",
        "outputId": "1fb0845c-aef5-4d1d-bdd0-7e49956d575e"
      },
      "outputs": [
        {
          "data": {
            "text/html": [
              "<div>\n",
              "<style scoped>\n",
              "    .dataframe tbody tr th:only-of-type {\n",
              "        vertical-align: middle;\n",
              "    }\n",
              "\n",
              "    .dataframe tbody tr th {\n",
              "        vertical-align: top;\n",
              "    }\n",
              "\n",
              "    .dataframe thead th {\n",
              "        text-align: right;\n",
              "    }\n",
              "</style>\n",
              "<table border=\"1\" class=\"dataframe\">\n",
              "  <thead>\n",
              "    <tr style=\"text-align: right;\">\n",
              "      <th></th>\n",
              "      <th>evaluate</th>\n",
              "    </tr>\n",
              "  </thead>\n",
              "  <tbody>\n",
              "    <tr>\n",
              "      <th>0</th>\n",
              "      <td>0.5741</td>\n",
              "    </tr>\n",
              "    <tr>\n",
              "      <th>1</th>\n",
              "      <td>0.9455</td>\n",
              "    </tr>\n",
              "    <tr>\n",
              "      <th>2</th>\n",
              "      <td>0.7252</td>\n",
              "    </tr>\n",
              "    <tr>\n",
              "      <th>3</th>\n",
              "      <td>0.5741</td>\n",
              "    </tr>\n",
              "    <tr>\n",
              "      <th>4</th>\n",
              "      <td>0.8196</td>\n",
              "    </tr>\n",
              "    <tr>\n",
              "      <th>...</th>\n",
              "      <td>...</td>\n",
              "    </tr>\n",
              "    <tr>\n",
              "      <th>145</th>\n",
              "      <td>0.6922</td>\n",
              "    </tr>\n",
              "    <tr>\n",
              "      <th>146</th>\n",
              "      <td>0.9011</td>\n",
              "    </tr>\n",
              "    <tr>\n",
              "      <th>147</th>\n",
              "      <td>0.6923</td>\n",
              "    </tr>\n",
              "    <tr>\n",
              "      <th>148</th>\n",
              "      <td>0.7252</td>\n",
              "    </tr>\n",
              "    <tr>\n",
              "      <th>149</th>\n",
              "      <td>0.8196</td>\n",
              "    </tr>\n",
              "  </tbody>\n",
              "</table>\n",
              "<p>150 rows × 1 columns</p>\n",
              "</div>"
            ],
            "text/plain": [
              "     evaluate\n",
              "0      0.5741\n",
              "1      0.9455\n",
              "2      0.7252\n",
              "3      0.5741\n",
              "4      0.8196\n",
              "..        ...\n",
              "145    0.6922\n",
              "146    0.9011\n",
              "147    0.6923\n",
              "148    0.7252\n",
              "149    0.8196\n",
              "\n",
              "[150 rows x 1 columns]"
            ]
          },
          "execution_count": 44,
          "metadata": {},
          "output_type": "execute_result"
        },
        {
          "data": {
            "image/png": "[encoded data removed]",
            "text/plain": [
              "<Figure size 432x288 with 1 Axes>"
            ]
          },
          "metadata": {
            "needs_background": "light"
          },
          "output_type": "display_data"
        }
      ],
      "source": [
        "your_list = result\n",
        "result_df = pd.DataFrame(your_list,columns=['evaluate'])\n",
        "plt.plot(result_df)\n",
        "result_df"
      ]
    },
    {
      "cell_type": "markdown",
      "metadata": {
        "id": "168R100ZMs1k"
      },
      "source": [
        "#### 6.2 Visualize the result from \"5.4 use z-score...\""
      ]
    },
    {
      "cell_type": "code",
      "execution_count": null,
      "metadata": {
        "colab": {
          "base_uri": "https://localhost:8080/",
          "height": 1000
        },
        "id": "mZCIi5t-BfWX",
        "outputId": "34e7a90e-6adf-426d-c110-4d32385c82e7"
      },
      "outputs": [
        {
          "data": {
            "text/html": [
              "<div>\n",
              "<style scoped>\n",
              "    .dataframe tbody tr th:only-of-type {\n",
              "        vertical-align: middle;\n",
              "    }\n",
              "\n",
              "    .dataframe tbody tr th {\n",
              "        vertical-align: top;\n",
              "    }\n",
              "\n",
              "    .dataframe thead th {\n",
              "        text-align: right;\n",
              "    }\n",
              "</style>\n",
              "<table border=\"1\" class=\"dataframe\">\n",
              "  <thead>\n",
              "    <tr style=\"text-align: right;\">\n",
              "      <th></th>\n",
              "      <th>evaluate</th>\n",
              "    </tr>\n",
              "  </thead>\n",
              "  <tbody>\n",
              "    <tr>\n",
              "      <th>0</th>\n",
              "      <td>0.5741</td>\n",
              "    </tr>\n",
              "    <tr>\n",
              "      <th>1</th>\n",
              "      <td>0.9455</td>\n",
              "    </tr>\n",
              "    <tr>\n",
              "      <th>3</th>\n",
              "      <td>0.5741</td>\n",
              "    </tr>\n",
              "    <tr>\n",
              "      <th>5</th>\n",
              "      <td>0.9455</td>\n",
              "    </tr>\n",
              "    <tr>\n",
              "      <th>8</th>\n",
              "      <td>0.9780</td>\n",
              "    </tr>\n",
              "    <tr>\n",
              "      <th>10</th>\n",
              "      <td>0.5741</td>\n",
              "    </tr>\n",
              "    <tr>\n",
              "      <th>14</th>\n",
              "      <td>0.5742</td>\n",
              "    </tr>\n",
              "    <tr>\n",
              "      <th>15</th>\n",
              "      <td>0.9455</td>\n",
              "    </tr>\n",
              "    <tr>\n",
              "      <th>22</th>\n",
              "      <td>0.5741</td>\n",
              "    </tr>\n",
              "    <tr>\n",
              "      <th>23</th>\n",
              "      <td>0.5741</td>\n",
              "    </tr>\n",
              "    <tr>\n",
              "      <th>25</th>\n",
              "      <td>0.9780</td>\n",
              "    </tr>\n",
              "    <tr>\n",
              "      <th>28</th>\n",
              "      <td>0.9455</td>\n",
              "    </tr>\n",
              "    <tr>\n",
              "      <th>35</th>\n",
              "      <td>0.5741</td>\n",
              "    </tr>\n",
              "    <tr>\n",
              "      <th>36</th>\n",
              "      <td>0.9455</td>\n",
              "    </tr>\n",
              "    <tr>\n",
              "      <th>46</th>\n",
              "      <td>0.5740</td>\n",
              "    </tr>\n",
              "    <tr>\n",
              "      <th>47</th>\n",
              "      <td>0.5741</td>\n",
              "    </tr>\n",
              "    <tr>\n",
              "      <th>48</th>\n",
              "      <td>0.9780</td>\n",
              "    </tr>\n",
              "    <tr>\n",
              "      <th>52</th>\n",
              "      <td>0.5741</td>\n",
              "    </tr>\n",
              "    <tr>\n",
              "      <th>61</th>\n",
              "      <td>0.5741</td>\n",
              "    </tr>\n",
              "    <tr>\n",
              "      <th>65</th>\n",
              "      <td>0.5741</td>\n",
              "    </tr>\n",
              "    <tr>\n",
              "      <th>74</th>\n",
              "      <td>0.5741</td>\n",
              "    </tr>\n",
              "    <tr>\n",
              "      <th>76</th>\n",
              "      <td>0.9780</td>\n",
              "    </tr>\n",
              "    <tr>\n",
              "      <th>79</th>\n",
              "      <td>0.5741</td>\n",
              "    </tr>\n",
              "    <tr>\n",
              "      <th>82</th>\n",
              "      <td>0.9780</td>\n",
              "    </tr>\n",
              "    <tr>\n",
              "      <th>86</th>\n",
              "      <td>0.5741</td>\n",
              "    </tr>\n",
              "    <tr>\n",
              "      <th>87</th>\n",
              "      <td>0.5741</td>\n",
              "    </tr>\n",
              "    <tr>\n",
              "      <th>88</th>\n",
              "      <td>0.5741</td>\n",
              "    </tr>\n",
              "    <tr>\n",
              "      <th>92</th>\n",
              "      <td>0.5741</td>\n",
              "    </tr>\n",
              "    <tr>\n",
              "      <th>93</th>\n",
              "      <td>0.5741</td>\n",
              "    </tr>\n",
              "    <tr>\n",
              "      <th>94</th>\n",
              "      <td>0.5741</td>\n",
              "    </tr>\n",
              "    <tr>\n",
              "      <th>95</th>\n",
              "      <td>0.5741</td>\n",
              "    </tr>\n",
              "    <tr>\n",
              "      <th>97</th>\n",
              "      <td>0.9780</td>\n",
              "    </tr>\n",
              "    <tr>\n",
              "      <th>98</th>\n",
              "      <td>0.5741</td>\n",
              "    </tr>\n",
              "    <tr>\n",
              "      <th>99</th>\n",
              "      <td>0.5741</td>\n",
              "    </tr>\n",
              "    <tr>\n",
              "      <th>105</th>\n",
              "      <td>0.5741</td>\n",
              "    </tr>\n",
              "    <tr>\n",
              "      <th>106</th>\n",
              "      <td>0.5741</td>\n",
              "    </tr>\n",
              "    <tr>\n",
              "      <th>107</th>\n",
              "      <td>0.5741</td>\n",
              "    </tr>\n",
              "    <tr>\n",
              "      <th>116</th>\n",
              "      <td>0.9455</td>\n",
              "    </tr>\n",
              "    <tr>\n",
              "      <th>120</th>\n",
              "      <td>0.9455</td>\n",
              "    </tr>\n",
              "    <tr>\n",
              "      <th>121</th>\n",
              "      <td>0.5741</td>\n",
              "    </tr>\n",
              "    <tr>\n",
              "      <th>122</th>\n",
              "      <td>0.5741</td>\n",
              "    </tr>\n",
              "    <tr>\n",
              "      <th>126</th>\n",
              "      <td>0.5741</td>\n",
              "    </tr>\n",
              "    <tr>\n",
              "      <th>134</th>\n",
              "      <td>0.5742</td>\n",
              "    </tr>\n",
              "    <tr>\n",
              "      <th>137</th>\n",
              "      <td>0.5741</td>\n",
              "    </tr>\n",
              "  </tbody>\n",
              "</table>\n",
              "</div>"
            ],
            "text/plain": [
              "     evaluate\n",
              "0      0.5741\n",
              "1      0.9455\n",
              "3      0.5741\n",
              "5      0.9455\n",
              "8      0.9780\n",
              "10     0.5741\n",
              "14     0.5742\n",
              "15     0.9455\n",
              "22     0.5741\n",
              "23     0.5741\n",
              "25     0.9780\n",
              "28     0.9455\n",
              "35     0.5741\n",
              "36     0.9455\n",
              "46     0.5740\n",
              "47     0.5741\n",
              "48     0.9780\n",
              "52     0.5741\n",
              "61     0.5741\n",
              "65     0.5741\n",
              "74     0.5741\n",
              "76     0.9780\n",
              "79     0.5741\n",
              "82     0.9780\n",
              "86     0.5741\n",
              "87     0.5741\n",
              "88     0.5741\n",
              "92     0.5741\n",
              "93     0.5741\n",
              "94     0.5741\n",
              "95     0.5741\n",
              "97     0.9780\n",
              "98     0.5741\n",
              "99     0.5741\n",
              "105    0.5741\n",
              "106    0.5741\n",
              "107    0.5741\n",
              "116    0.9455\n",
              "120    0.9455\n",
              "121    0.5741\n",
              "122    0.5741\n",
              "126    0.5741\n",
              "134    0.5742\n",
              "137    0.5741"
            ]
          },
          "metadata": {},
          "output_type": "display_data"
        },
        {
          "data": {
            "text/plain": [
              "[<matplotlib.lines.Line2D at 0x7f2cd04cc890>]"
            ]
          },
          "execution_count": 45,
          "metadata": {},
          "output_type": "execute_result"
        },
        {
          "data": {
            "image/png": "[encoded data removed]",
            "text/plain": [
              "<Figure size 432x288 with 1 Axes>"
            ]
          },
          "metadata": {
            "needs_background": "light"
          },
          "output_type": "display_data"
        }
      ],
      "source": [
        "result_outlier = result_df.loc[idxoutlier]\n",
        "display(result_outlier)\n",
        "plt.plot(result_outlier)"
      ]
    },
    {
      "cell_type": "markdown",
      "metadata": {
        "id": "EzW_xG2VExBF"
      },
      "source": [
        "#### 6.3 Get the latest X data points"
      ]
    },
    {
      "cell_type": "code",
      "execution_count": null,
      "metadata": {
        "colab": {
          "base_uri": "https://localhost:8080/",
          "height": 142
        },
        "id": "CoDI9-_evVmt",
        "outputId": "1e9a984c-c0cb-49a1-ae30-cb147da1f5fa"
      },
      "outputs": [
        {
          "data": {
            "text/html": [
              "<div>\n",
              "<style scoped>\n",
              "    .dataframe tbody tr th:only-of-type {\n",
              "        vertical-align: middle;\n",
              "    }\n",
              "\n",
              "    .dataframe tbody tr th {\n",
              "        vertical-align: top;\n",
              "    }\n",
              "\n",
              "    .dataframe thead th {\n",
              "        text-align: right;\n",
              "    }\n",
              "</style>\n",
              "<table border=\"1\" class=\"dataframe\">\n",
              "  <thead>\n",
              "    <tr style=\"text-align: right;\">\n",
              "      <th></th>\n",
              "      <th>temp_pred</th>\n",
              "    </tr>\n",
              "  </thead>\n",
              "  <tbody>\n",
              "    <tr>\n",
              "      <th>0</th>\n",
              "      <td>22.813122</td>\n",
              "    </tr>\n",
              "    <tr>\n",
              "      <th>1</th>\n",
              "      <td>22.813097</td>\n",
              "    </tr>\n",
              "    <tr>\n",
              "      <th>2</th>\n",
              "      <td>22.813046</td>\n",
              "    </tr>\n",
              "  </tbody>\n",
              "</table>\n",
              "</div>"
            ],
            "text/plain": [
              "   temp_pred\n",
              "0  22.813122\n",
              "1  22.813097\n",
              "2  22.813046"
            ]
          },
          "execution_count": 46,
          "metadata": {},
          "output_type": "execute_result"
        }
      ],
      "source": [
        "# len(y_val_pred) #time_want_pred: X in this case\n",
        "your_arr = y_val_pred\n",
        "y_pred_df = pd.DataFrame(your_arr,columns=['temp_pred'])\n",
        "y_pred_df.head(3)"
      ]
    },
    {
      "cell_type": "code",
      "execution_count": null,
      "metadata": {
        "colab": {
          "base_uri": "https://localhost:8080/",
          "height": 436
        },
        "id": "9z1euZNMrIS-",
        "outputId": "bf2e957e-6b00-4a5f-b781-2f75fc9ac928"
      },
      "outputs": [
        {
          "name": "stdout",
          "output_type": "stream",
          "text": [
            "(14069, 2)\n"
          ]
        },
        {
          "data": {
            "text/html": [
              "<div>\n",
              "<style scoped>\n",
              "    .dataframe tbody tr th:only-of-type {\n",
              "        vertical-align: middle;\n",
              "    }\n",
              "\n",
              "    .dataframe tbody tr th {\n",
              "        vertical-align: top;\n",
              "    }\n",
              "\n",
              "    .dataframe thead th {\n",
              "        text-align: right;\n",
              "    }\n",
              "</style>\n",
              "<table border=\"1\" class=\"dataframe\">\n",
              "  <thead>\n",
              "    <tr style=\"text-align: right;\">\n",
              "      <th></th>\n",
              "      <th>date_time</th>\n",
              "      <th>temperature</th>\n",
              "      <th>MayBeAnomaly</th>\n",
              "    </tr>\n",
              "  </thead>\n",
              "  <tbody>\n",
              "    <tr>\n",
              "      <th>0</th>\n",
              "      <td>2021-08-11 20:05:30.631</td>\n",
              "      <td>22.0</td>\n",
              "      <td>0.5741</td>\n",
              "    </tr>\n",
              "    <tr>\n",
              "      <th>1</th>\n",
              "      <td>2021-08-11 20:05:32.633</td>\n",
              "      <td>23.0</td>\n",
              "      <td>0.9455</td>\n",
              "    </tr>\n",
              "    <tr>\n",
              "      <th>2</th>\n",
              "      <td>2021-08-11 20:05:36.635</td>\n",
              "      <td>25.0</td>\n",
              "      <td>0.0000</td>\n",
              "    </tr>\n",
              "    <tr>\n",
              "      <th>3</th>\n",
              "      <td>2021-08-11 20:05:38.637</td>\n",
              "      <td>22.0</td>\n",
              "      <td>0.5741</td>\n",
              "    </tr>\n",
              "    <tr>\n",
              "      <th>4</th>\n",
              "      <td>2021-08-11 20:05:40.639</td>\n",
              "      <td>25.0</td>\n",
              "      <td>0.0000</td>\n",
              "    </tr>\n",
              "    <tr>\n",
              "      <th>...</th>\n",
              "      <td>...</td>\n",
              "      <td>...</td>\n",
              "      <td>...</td>\n",
              "    </tr>\n",
              "    <tr>\n",
              "      <th>145</th>\n",
              "      <td>2021-08-11 20:13:19.005</td>\n",
              "      <td>22.0</td>\n",
              "      <td>0.0000</td>\n",
              "    </tr>\n",
              "    <tr>\n",
              "      <th>146</th>\n",
              "      <td>2021-08-11 20:13:27.013</td>\n",
              "      <td>26.0</td>\n",
              "      <td>0.0000</td>\n",
              "    </tr>\n",
              "    <tr>\n",
              "      <th>147</th>\n",
              "      <td>2021-08-11 20:13:31.017</td>\n",
              "      <td>23.0</td>\n",
              "      <td>0.0000</td>\n",
              "    </tr>\n",
              "    <tr>\n",
              "      <th>148</th>\n",
              "      <td>2021-08-11 20:13:35.020</td>\n",
              "      <td>20.0</td>\n",
              "      <td>0.0000</td>\n",
              "    </tr>\n",
              "    <tr>\n",
              "      <th>149</th>\n",
              "      <td>2021-08-11 20:13:39.053</td>\n",
              "      <td>24.0</td>\n",
              "      <td>0.0000</td>\n",
              "    </tr>\n",
              "  </tbody>\n",
              "</table>\n",
              "<p>150 rows × 3 columns</p>\n",
              "</div>"
            ],
            "text/plain": [
              "                  date_time  temperature  MayBeAnomaly\n",
              "0   2021-08-11 20:05:30.631         22.0        0.5741\n",
              "1   2021-08-11 20:05:32.633         23.0        0.9455\n",
              "2   2021-08-11 20:05:36.635         25.0        0.0000\n",
              "3   2021-08-11 20:05:38.637         22.0        0.5741\n",
              "4   2021-08-11 20:05:40.639         25.0        0.0000\n",
              "..                      ...          ...           ...\n",
              "145 2021-08-11 20:13:19.005         22.0        0.0000\n",
              "146 2021-08-11 20:13:27.013         26.0        0.0000\n",
              "147 2021-08-11 20:13:31.017         23.0        0.0000\n",
              "148 2021-08-11 20:13:35.020         20.0        0.0000\n",
              "149 2021-08-11 20:13:39.053         24.0        0.0000\n",
              "\n",
              "[150 rows x 3 columns]"
            ]
          },
          "execution_count": 47,
          "metadata": {},
          "output_type": "execute_result"
        }
      ],
      "source": [
        "Xval = data[X_val.shape[0]:]\n",
        "print(Xval.shape)\n",
        "yvalpred = Xval[len(Xval)-time_want_pred:]\n",
        "yvalpred = yvalpred.reset_index(drop=True)\n",
        "yvalpred['MayBeAnomaly'] = result_outlier\n",
        "# yvalpred['temp_pred'] = y_pred_df\n",
        "yvalpred = yvalpred.fillna(0)\n",
        "\n",
        "yvalpred"
      ]
    },
    {
      "cell_type": "markdown",
      "metadata": {
        "id": "iTpq3iVwM9Ao"
      },
      "source": [
        "#### 6.4 Choose threshold based on \"6.2 Visualize...\".\n",
        "(How can we automate in choosing threshold?)"
      ]
    },
    {
      "cell_type": "code",
      "execution_count": null,
      "metadata": {
        "colab": {
          "base_uri": "https://localhost:8080/",
          "height": 486
        },
        "id": "CcUAF1GmrvAG",
        "outputId": "c3655271-9ea4-482e-9c68-2ad1bbc5deca"
      },
      "outputs": [
        {
          "name": "stderr",
          "output_type": "stream",
          "text": [
            "/usr/local/lib/python3.7/dist-packages/matplotlib/backends/backend_agg.py:214: RuntimeWarning: Glyph 8 missing from current font.\n",
            "  font.set_text(s, 0.0, flags=flags)\n",
            "/usr/local/lib/python3.7/dist-packages/matplotlib/backends/backend_agg.py:183: RuntimeWarning: Glyph 8 missing from current font.\n",
            "  font.set_text(s, 0, flags=flags)\n"
          ]
        },
        {
          "data": {
            "image/png": "[encoded data removed]",
            "text/plain": [
              "<Figure size 2160x720 with 1 Axes>"
            ]
          },
          "metadata": {
            "needs_background": "light"
          },
          "output_type": "display_data"
        }
      ],
      "source": [
        "threshold_1 = 0.97 # chosen one\n",
        "threshold_2 = 0.94\n",
        "AbnormalPos_high = (yvalpred[\"MayBeAnomaly\"] > threshold_1)\n",
        "AbnormalPos_low = ((yvalpred[\"MayBeAnomaly\"] < threshold_1) & (yvalpred[\"MayBeAnomaly\"] > threshold_2))\n",
        "plt.figure(figsize=(30,10))\n",
        "plt.rcParams['axes.facecolor'] = 'black'\n",
        "plt.plot(yvalpred[\"temperature\"], label = 'Temperature')\n",
        "# plt.plot(yvalpred[\"temp_pred\"], label = 'temp pred')\n",
        "plt.scatter(yvalpred[AbnormalPos_high][\"temperature\"].index, yvalpred[AbnormalPos_high][\"temperature\"], marker='o', c='red', label = 'Highly Anomaly')\n",
        "plt.scatter(yvalpred[AbnormalPos_low][\"temperature\"].index, yvalpred[AbnormalPos_low][\"temperature\"], marker='$X$', c='c', label = '\bSuspicious')\n",
        "leg = plt.legend(loc='upper left')\n",
        "for text in leg.get_texts():\n",
        "  text.set_color(\"white\")\n",
        "plt.savefig('great_visualize.jpg', format='jpg', dpi=213)\n",
        "yvalpred.to_csv(\"great_data_for_demo.csv\")"
      ]
    },
    {
      "cell_type": "code",
      "execution_count": null,
      "metadata": {
        "id": "3EhUiR0AVKDE"
      },
      "outputs": [],
      "source": [
        "tempList = []\n",
        "for i in range(0,len(result)):\n",
        "    if i in idxoutlier:\n",
        "        tempList.append(1)\n",
        "    else:\n",
        "        tempList.append(0)\n",
        "# tempList"
      ]
    },
    {
      "cell_type": "code",
      "execution_count": null,
      "metadata": {
        "id": "9vR7ND8XWmAZ"
      },
      "outputs": [],
      "source": [
        "yvalpred['refine anomaly score'] = tempList"
      ]
    },
    {
      "cell_type": "code",
      "execution_count": null,
      "metadata": {
        "id": "RKhA69Onzeks"
      },
      "outputs": [],
      "source": [
        "anomaly_df = yvalpred.drop(columns=['MayBeAnomaly', 'temp_pred']).rename(columns = {'refine anomaly score':'is_anomaly'})\n",
        "# anomaly_df.head(10)"
      ]
    },
    {
      "cell_type": "code",
      "execution_count": null,
      "metadata": {
        "id": "NKd7tUnT8Xs3"
      },
      "outputs": [],
      "source": []
    },
    {
      "cell_type": "code",
      "execution_count": null,
      "metadata": {
        "colab": {
          "base_uri": "https://localhost:8080/"
        },
        "id": "Y7ouyfZ5Bmep",
        "outputId": "ced9f82a-1b43-4332-b004-2ec04c21f9f7"
      },
      "outputs": [
        {
          "name": "stdout",
          "output_type": "stream",
          "text": [
            "Time eslapsed (hh:mm:ss.ms) 0:01:53.081362\n"
          ]
        }
      ],
      "source": [
        "time_elapsed = datetime.datetime.now() - start_time\n",
        "print('Time eslapsed (hh:mm:ss.ms) {}'.format(time_elapsed))"
      ]
    },
    {
      "cell_type": "code",
      "execution_count": null,
      "metadata": {
        "id": "_nHwrLfo3pNZ"
      },
      "outputs": [],
      "source": [
        "## WANT TO UPDATE TO DB? UN-CMT\n",
        "## I want to keep current data in the db as a good example!\n",
        "\n",
        "\n",
        "# try:\n",
        "#     # from cred import getPostgresCred\n",
        "#     import psycopg2\n",
        "#     host, database, user, password = getPostgresCred()\n",
        "#     conn = psycopg2.connect(\n",
        "#         host=host,\n",
        "#         database=database,\n",
        "#         user=user,\n",
        "#         password=password,\n",
        "#         port='5432')\n",
        "#     print(\"okay 1 - connect\");\n",
        "#     cur = conn.cursor()\n",
        "#     print(\"... Get the conn successfully!\")\n",
        "# except Exception as err:\n",
        "#     print(f\"You failed to connect posgres! {err}\")\n",
        "\n",
        "# query = '''create table if not exists datahub.isnomaly\n",
        "# (date_time timestamp primary key not null,\n",
        "# temperature float,\n",
        "# is_anomaly int);'''\n",
        "\n",
        "# cur.execute(query)\n",
        "\n",
        "# update_table = '''insert into datahub.isnomaly\n",
        "# (date_time, temperature, is_anomaly)\n",
        "# values(%s, %s, %s)\n",
        "# on conflict (date_time)\n",
        "# do nothing;\n",
        "# '''\n",
        "\n",
        "# for i, row in anomaly_df.iterrows():\n",
        "#     cur.execute(update_table, list(row))\n",
        "#     conn.commit()\n",
        "\n",
        "\n",
        "# conn.close()\n"
      ]
    },
    {
      "cell_type": "code",
      "execution_count": null,
      "metadata": {
        "id": "nl8hwmbL4e9g"
      },
      "outputs": [],
      "source": []
    }
  ],
  "metadata": {
    "accelerator": "GPU",
    "colab": {
      "provenance": []
    },
    "kernelspec": {
      "display_name": "Python 3",
      "language": "python",
      "name": "python3"
    },
    "language_info": {
      "codemirror_mode": {
        "name": "ipython",
        "version": 3
      },
      "file_extension": ".py",
      "mimetype": "text/x-python",
      "name": "python",
      "nbconvert_exporter": "python",
      "pygments_lexer": "ipython3",
      "version": "3.7.10"
    }
  },
  "nbformat": 4,
  "nbformat_minor": 0
}
